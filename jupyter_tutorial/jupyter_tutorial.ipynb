{
 "cells": [
  {
   "cell_type": "markdown",
   "metadata": {},
   "source": [
    "# Jupyter Notebookチュートリアル"
   ]
  },
  {
   "cell_type": "markdown",
   "metadata": {},
   "source": [
    "この画面がjupyter notebookの環境になります。  \n",
    "今文字を打ってるように、\n",
    "\n",
    "1. このように、\n",
    "1. **Markdown**形式で、\n",
    "1. 何かメモなどを記述することができます。\n",
    "\n",
    "便利ですね。"
   ]
  },
  {
   "cell_type": "markdown",
   "metadata": {},
   "source": [
    "# こんな感じで、\n",
    "\\# 見出し1\n",
    "\n",
    "## 見出しをつけたり、\n",
    "\\## 見出し2\n",
    "\n",
    "### できます。\n",
    "\\### 見出し3\n"
   ]
  },
  {
   "cell_type": "markdown",
   "metadata": {},
   "source": [
    "latexと同じ記法で数式なんかも打てちゃいます。"
   ]
  },
  {
   "cell_type": "markdown",
   "metadata": {},
   "source": [
    "\\begin{equation}\n",
    "a^2 + b^2 = c^2\n",
    "\\end{equation}"
   ]
  },
  {
   "cell_type": "markdown",
   "metadata": {},
   "source": [
    "----"
   ]
  },
  {
   "cell_type": "markdown",
   "metadata": {},
   "source": [
    "**Markdown**の記法については詳しく解説しませんが、以下のサイトを見ながら書いてみて、慣れると良いでしょう。  \n",
    "\n",
    "- [Markdownで行こう！](https://gist.github.com/wate/7072365)\n",
    "- [Markdown記法 チートシート](https://gist.github.com/mignonstyle/083c9e1651d7734f84c99b8cf49d57fa)"
   ]
  },
  {
   "cell_type": "markdown",
   "metadata": {},
   "source": [
    "---"
   ]
  },
  {
   "cell_type": "markdown",
   "metadata": {},
   "source": [
    "jupyterに関する説明は、以下のサイトがより詳しいです。\n",
    "\n",
    "- [Jupyter (iPython) Notebookを使って技術ノート環境を構築する方法](http://myenigma.hatenablog.com/entry/2016/02/20/183423)"
   ]
  },
  {
   "cell_type": "markdown",
   "metadata": {},
   "source": [
    "---"
   ]
  },
  {
   "cell_type": "markdown",
   "metadata": {},
   "source": [
    "## セルについて"
   ]
  },
  {
   "cell_type": "markdown",
   "metadata": {},
   "source": [
    "それではjupyter notebookの基本について詳しく見ていきます。  \n",
    "notebookは**セル**という単位で構成されています。\n",
    "\n",
    "↓のような入力できる欄がセルです。"
   ]
  },
  {
   "cell_type": "code",
   "execution_count": null,
   "metadata": {
    "collapsed": true
   },
   "outputs": [],
   "source": []
  },
  {
   "cell_type": "markdown",
   "metadata": {},
   "source": [
    "セルには活性状態と非活性状態があります。  \n",
    "活性状態ではセルの縁が緑色に、非活性状態では青色になります。  \n",
    "活性状態は文字を入力できる状態。  \n",
    "非活性状態は、セルそのものに処理をしたり、文字を入力するセルを選択する状態です。\n",
    "\n",
    "セルにフォーカスした状態でescキーを押せば非活性状態に、Enterキーを押せば活性状態になります。\n",
    "\n",
    "また、入力欄をクリックすれば活性状態に、  \n",
    "←の余白をクリックすれば、非活性状態になります。\n"
   ]
  },
  {
   "cell_type": "markdown",
   "metadata": {},
   "source": [
    "なんだか自分で説明してて小難しい感じがしてきましたが、  \n",
    "ここらへんは習うより慣れろで、実際にいじってるとわりと直感的です。"
   ]
  },
  {
   "cell_type": "markdown",
   "metadata": {},
   "source": [
    "---"
   ]
  },
  {
   "cell_type": "markdown",
   "metadata": {},
   "source": [
    "## セルのモード"
   ]
  },
  {
   "cell_type": "markdown",
   "metadata": {},
   "source": [
    "セルにはモードがあり基本的には**codeモード**と**Markdownモード**を使います。"
   ]
  },
  {
   "cell_type": "markdown",
   "metadata": {},
   "source": [
    "codeモードとMarkdownモードは上の方にあるタブで切り替えるか、  \n",
    "セルが非活性の状態（セルの縁が青色の状態）で、\n",
    "\n",
    "- **m**キー -> Markdownモード\n",
    "- **y**キー -> codeモード\n",
    "\n",
    "という風に切り替わります。\n",
    "\n"
   ]
  },
  {
   "cell_type": "markdown",
   "metadata": {},
   "source": [
    "今書いているような日本語はMarkdownモードで記述しています。"
   ]
  },
  {
   "cell_type": "code",
   "execution_count": 1,
   "metadata": {
    "collapsed": false
   },
   "outputs": [
    {
     "name": "stdout",
     "output_type": "stream",
     "text": [
      "Hello World!\n"
     ]
    }
   ],
   "source": [
    "# 一方、codeモードではpythonの処理を書いて、それを実行することができます。\n",
    "\n",
    "print(\"Hello World!\")"
   ]
  },
  {
   "cell_type": "markdown",
   "metadata": {},
   "source": [
    "codeの実行は**control+Enter**キーです。  \n",
    "また、**Shift+Enter**キーで、セルを実行しつつ、次のセルに移る事ができます。"
   ]
  },
  {
   "cell_type": "markdown",
   "metadata": {},
   "source": [
    "ちなみに冒頭に**!**をつけることで、shellコマンドも使えます。"
   ]
  },
  {
   "cell_type": "code",
   "execution_count": 2,
   "metadata": {
    "collapsed": false
   },
   "outputs": [
    {
     "name": "stdout",
     "output_type": "stream",
     "text": [
      "README.md              __init__.py            jupyter_tutorial.ipynb\r\n"
     ]
    }
   ],
   "source": [
    "!ls"
   ]
  },
  {
   "cell_type": "markdown",
   "metadata": {},
   "source": [
    "## セルの操作"
   ]
  },
  {
   "cell_type": "markdown",
   "metadata": {},
   "source": [
    "セルが非活性状態で、\n",
    "\n",
    "- **a**キー\n",
    "    - 現在のセルの上に、新しいセルを挿入。\n",
    "- **b**キー\n",
    "    - 現在のセルの下に、新しいセルを挿入。\n",
    "- **d**キー二回\n",
    "    - 現在のセルを削除。 \n",
    "- **z**キー\n",
    "    - 削除したセルを戻す"
   ]
  },
  {
   "cell_type": "markdown",
   "metadata": {},
   "source": [
    "基本操作はこんな感じです。  \n",
    "この他、セルのコピペなど様々な便利操作があります。  \n",
    "ショートカットもありますので、詳しくは**h**キーを押すか、ググってください。\n",
    "\n"
   ]
  },
  {
   "cell_type": "markdown",
   "metadata": {},
   "source": [
    "---"
   ]
  },
  {
   "cell_type": "markdown",
   "metadata": {},
   "source": [
    "# Jupyter notebookを利用したインタラクティブなコーディングと可視化"
   ]
  },
  {
   "cell_type": "markdown",
   "metadata": {},
   "source": [
    "jupyter notebookを利用するメリットは、\n",
    "\n",
    "1. 実行履歴がセルの形で見やすく残るので、細かく刻んで処理ができること。\n",
    "2. matplotlibとの連携により、データをいろんな形で可視化しながら分析ができること。\n",
    "\n",
    "かな、と思います。  \n",
    "以下でそれらをざっと見ていきます。"
   ]
  },
  {
   "cell_type": "code",
   "execution_count": 3,
   "metadata": {
    "collapsed": true
   },
   "outputs": [],
   "source": [
    "# モジュールをインポートする。\n",
    "import numpy as np\n",
    "import pandas as pd\n",
    "import matplotlib.pyplot as plt\n",
    "import seaborn as sns\n",
    "%matplotlib inline"
   ]
  },
  {
   "cell_type": "code",
   "execution_count": 4,
   "metadata": {
    "collapsed": false
   },
   "outputs": [
    {
     "ename": "TypeError",
     "evalue": "random_sample() got an unexpected keyword argument 'sze'",
     "output_type": "error",
     "traceback": [
      "\u001b[0;31m---------------------------------------------------------------------------\u001b[0m",
      "\u001b[0;31mTypeError\u001b[0m                                 Traceback (most recent call last)",
      "\u001b[0;32m<ipython-input-4-2b316c6aa349>\u001b[0m in \u001b[0;36m<module>\u001b[0;34m()\u001b[0m\n\u001b[1;32m      1\u001b[0m \u001b[0;31m# 疑似データ(n=100, d=2)を作成\u001b[0m\u001b[0;34m\u001b[0m\u001b[0;34m\u001b[0m\u001b[0m\n\u001b[0;32m----> 2\u001b[0;31m \u001b[0mX\u001b[0m \u001b[0;34m=\u001b[0m \u001b[0mnp\u001b[0m\u001b[0;34m.\u001b[0m\u001b[0mrandom\u001b[0m\u001b[0;34m.\u001b[0m\u001b[0mrandom\u001b[0m\u001b[0;34m(\u001b[0m\u001b[0msze\u001b[0m\u001b[0;34m=\u001b[0m\u001b[0;34m(\u001b[0m\u001b[0;36m100\u001b[0m\u001b[0;34m,\u001b[0m \u001b[0;36m2\u001b[0m\u001b[0;34m)\u001b[0m\u001b[0;34m)\u001b[0m\u001b[0;34m\u001b[0m\u001b[0m\n\u001b[0m",
      "\u001b[0;32mmtrand.pyx\u001b[0m in \u001b[0;36mmtrand.RandomState.random_sample (numpy/random/mtrand/mtrand.c:15498)\u001b[0;34m()\u001b[0m\n",
      "\u001b[0;31mTypeError\u001b[0m: random_sample() got an unexpected keyword argument 'sze'"
     ]
    }
   ],
   "source": [
    "# 疑似データ(n=1000, d=2)を作成\n",
    "X = np.random.random(sze=(1000, 2))"
   ]
  },
  {
   "cell_type": "markdown",
   "metadata": {},
   "source": [
    "errorが出ました。  \n",
    "このような時でも、セルの形で履歴が見やすく残るので、エラーメッセージを見ながら落ち着いてコードを直す事ができます。"
   ]
  },
  {
   "cell_type": "code",
   "execution_count": 12,
   "metadata": {
    "collapsed": true
   },
   "outputs": [],
   "source": [
    "# 疑似データ(n=1000, d=2)を作成\n",
    "X = np.random.normal(size=(1000, 2))"
   ]
  },
  {
   "cell_type": "code",
   "execution_count": 13,
   "metadata": {
    "collapsed": false
   },
   "outputs": [
    {
     "name": "stdout",
     "output_type": "stream",
     "text": [
      "[[ 0.9172375  -1.1632845 ]\n",
      " [-0.7985023   0.71183869]\n",
      " [ 2.62741474 -0.92995942]\n",
      " [ 1.86859095  1.37241825]\n",
      " [ 0.10745391 -2.23461058]\n",
      " [-0.80111879  1.68565508]\n",
      " [ 0.95125525 -2.1087722 ]\n",
      " [ 0.28160045 -1.74258858]\n",
      " [-0.52261436 -1.18579611]\n",
      " [-0.13300734 -0.11817604]]\n"
     ]
    }
   ],
   "source": [
    "print(X[:10])"
   ]
  },
  {
   "cell_type": "markdown",
   "metadata": {},
   "source": [
    "ひとつのエラーだけだとターミナルのヒストリーで問題ないかもしれませんが、より複雑な処理をする場合は、GUIとセルが使えるJupyter Notebookが便利です。"
   ]
  },
  {
   "cell_type": "markdown",
   "metadata": {},
   "source": [
    "では、可視化を行います。"
   ]
  },
  {
   "cell_type": "code",
   "execution_count": 14,
   "metadata": {
    "collapsed": false
   },
   "outputs": [
    {
     "data": {
      "text/plain": [
       "<seaborn.axisgrid.JointGrid at 0x115ce5c88>"
      ]
     },
     "execution_count": 14,
     "metadata": {},
     "output_type": "execute_result"
    },
    {
     "data": {
      "image/png": "[encoded data removed]",
      "text/plain": [
       "<matplotlib.figure.Figure at 0x115ce5e80>"
      ]
     },
     "metadata": {},
     "output_type": "display_data"
    }
   ],
   "source": [
    "# seabornを使って可視化\n",
    "df = pd.DataFrame(X)\n",
    "df.columns = ['X', 'Y']\n",
    "sns.jointplot('X', 'Y',data=df)"
   ]
  },
  {
   "cell_type": "code",
   "execution_count": null,
   "metadata": {
    "collapsed": true
   },
   "outputs": [],
   "source": []
  }
 ],
 "metadata": {
  "kernelspec": {
   "display_name": "Python 3",
   "language": "python",
   "name": "python3"
  },
  "language_info": {
   "codemirror_mode": {
    "name": "ipython",
    "version": 3
   },
   "file_extension": ".py",
   "mimetype": "text/x-python",
   "name": "python",
   "nbconvert_exporter": "python",
   "pygments_lexer": "ipython3",
   "version": "3.6.1"
  }
 },
 "nbformat": 4,
 "nbformat_minor": 2
}
