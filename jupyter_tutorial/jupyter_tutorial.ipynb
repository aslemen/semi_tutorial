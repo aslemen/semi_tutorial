{
 "cells": [
  {
   "cell_type": "markdown",
   "metadata": {},
   "source": [
    "# Jupyter Notebookチュートリアル"
   ]
  },
  {
   "cell_type": "markdown",
   "metadata": {},
   "source": [
    "この画面がjupyter notebookの環境になります。  \n",
    "今文字を打ってるように、\n",
    "\n",
    "1. このように、\n",
    "1. **Markdown**形式で、\n",
    "1. 何かメモなどを記述することができます。\n",
    "\n",
    "便利ですね。"
   ]
  },
  {
   "cell_type": "markdown",
   "metadata": {},
   "source": [
    "----"
   ]
  },
  {
   "cell_type": "markdown",
   "metadata": {},
   "source": [
    "# こんな感じで、\n",
    "\\# 見出し1\n",
    "\n",
    "## 見出しをつけたり、\n",
    "\\## 見出し2\n",
    "\n",
    "### できます。\n",
    "\\### 見出し3\n"
   ]
  },
  {
   "cell_type": "markdown",
   "metadata": {},
   "source": [
    "latexと同じ記法で数式なんかも打てちゃいます。"
   ]
  },
  {
   "cell_type": "markdown",
   "metadata": {},
   "source": [
    "\\begin{equation}\n",
    "a^2 + b^2 = c^2\n",
    "\\end{equation}"
   ]
  },
  {
   "cell_type": "markdown",
   "metadata": {},
   "source": [
    "----"
   ]
  },
  {
   "cell_type": "markdown",
   "metadata": {},
   "source": [
    "**Markdown**の記法については詳しく解説しませんが、以下のサイトを見ながら書いてみて、慣れると良いでしょう。  \n",
    "\n",
    "- [Markdownで行こう！](https://gist.github.com/wate/7072365)\n",
    "- [Markdown記法 チートシート](https://gist.github.com/mignonstyle/083c9e1651d7734f84c99b8cf49d57fa)"
   ]
  },
  {
   "cell_type": "markdown",
   "metadata": {},
   "source": [
    "---"
   ]
  },
  {
   "cell_type": "markdown",
   "metadata": {},
   "source": [
    "jupyterに関する説明は、以下のサイトがより詳しいです。\n",
    "\n",
    "- [Jupyter (iPython) Notebookを使って技術ノート環境を構築する方法](http://myenigma.hatenablog.com/entry/2016/02/20/183423)"
   ]
  },
  {
   "cell_type": "markdown",
   "metadata": {},
   "source": [
    "---"
   ]
  },
  {
   "cell_type": "markdown",
   "metadata": {},
   "source": [
    "## セルについて"
   ]
  },
  {
   "cell_type": "markdown",
   "metadata": {},
   "source": [
    "それではjupyter notebookの基本について詳しく見ていきます。  \n",
    "notebookは**セル**という単位で構成されています。\n",
    "\n",
    "↓のような入力できる欄がセルです。"
   ]
  },
  {
   "cell_type": "code",
   "execution_count": null,
   "metadata": {
    "collapsed": true
   },
   "outputs": [],
   "source": []
  },
  {
   "cell_type": "markdown",
   "metadata": {},
   "source": [
    "セルにはモードがあり基本的には**codeモード**と**Markdownモード**を使います。"
   ]
  },
  {
   "cell_type": "code",
   "execution_count": null,
   "metadata": {
    "collapsed": true
   },
   "outputs": [],
   "source": []
  }
 ],
 "metadata": {
  "kernelspec": {
   "display_name": "Python 3",
   "language": "python",
   "name": "python3"
  },
  "language_info": {
   "codemirror_mode": {
    "name": "ipython",
    "version": 3
   },
   "file_extension": ".py",
   "mimetype": "text/x-python",
   "name": "python",
   "nbconvert_exporter": "python",
   "pygments_lexer": "ipython3",
   "version": "3.6.1"
  }
 },
 "nbformat": 4,
 "nbformat_minor": 2
}
