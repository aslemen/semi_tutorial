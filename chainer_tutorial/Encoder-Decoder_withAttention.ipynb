{
 "cells": [
  {
   "cell_type": "markdown",
   "metadata": {},
   "source": [
    "# Encoder-Decoder with Attention"
   ]
  },
  {
   "cell_type": "code",
   "execution_count": 1,
   "metadata": {},
   "outputs": [],
   "source": [
    "import numpy as np\n",
    "import chainer\n",
    "from chainer import cuda, Function, gradient_check, report, training, utils, Variable\n",
    "from chainer import datasets, iterators, optimizers, serializers\n",
    "from chainer import Link, Chain, ChainList\n",
    "import chainer.functions as F\n",
    "import chainer.links as L\n",
    "from chainer.training import extensions"
   ]
  },
  {
   "cell_type": "code",
   "execution_count": 2,
   "metadata": {},
   "outputs": [],
   "source": [
    "# 可変長単語id系列を可変長単語ベクトル系列へ写像する関数\n",
    "def sequence_embed(embed, xs):\n",
    "    x_len = [len(x) for x in xs]\n",
    "    x_section = np.cumsum(x_len[:-1])\n",
    "    ex = embed(F.concat(xs, axis=0))\n",
    "    exs = F.split_axis(ex, x_section, 0)\n",
    "    return exs"
   ]
  },
  {
   "cell_type": "code",
   "execution_count": 354,
   "metadata": {},
   "outputs": [],
   "source": [
    "class Encoder(Chain):\n",
    "    def __init__(self, n_layers, n_source_vocab, n_units, dropout):\n",
    "        super(Encoder, self).__init__()\n",
    "        with self.init_scope():\n",
    "            self.source_embed = L.EmbedID(in_size=n_source_vocab, out_size=n_units)\n",
    "            self.encoder_lstm = L.NStepBiLSTM(n_layers=n_layers, in_size=n_units,\n",
    "                                              out_size=n_units, dropout=dropout)\n",
    "            self.n_source_vocab = n_source_vocab\n",
    "            self.n_units = n_units\n",
    "    \n",
    "    def __call__(self, source_xs):\n",
    "        # 単語の系列を単語ベクトルへ\n",
    "        exs = sequence_embed(self.source_embed, source_xs)\n",
    "        \n",
    "        # lstmの初期状態\n",
    "        hx = None\n",
    "        cx = None\n",
    "        \n",
    "        # lstmで各系列をエンコード\n",
    "        hy, cy, ys = self.encoder_lstm(hx, cx, exs)\n",
    "        return hy, cy, ys\n",
    "        "
   ]
  },
  {
   "cell_type": "markdown",
   "metadata": {},
   "source": [
    "Encoderで最後のh, y, あと各タイムステップのhが帰ってくる。"
   ]
  },
  {
   "cell_type": "markdown",
   "metadata": {},
   "source": [
    "Deocodingにおいて、最後の層以外は普通にLSTMしたい。"
   ]
  },
  {
   "cell_type": "markdown",
   "metadata": {},
   "source": [
    "ひとまず、最後の層のみのDecoder + ATTを書く。"
   ]
  },
  {
   "cell_type": "markdown",
   "metadata": {},
   "source": [
    "encoderのysと一つ前の隠れ状態からattentionを計算する。"
   ]
  },
  {
   "cell_type": "markdown",
   "metadata": {},
   "source": [
    "encoderのysは(系列数 , n_units)  "
   ]
  },
  {
   "cell_type": "markdown",
   "metadata": {},
   "source": [
    "Deocder側ではinput(系列arrayのリスト)を処理していく。  \n",
    "forで回すことになるだろう。"
   ]
  },
  {
   "cell_type": "code",
   "execution_count": 355,
   "metadata": {},
   "outputs": [],
   "source": [
    "class Attention(Chain):\n",
    "    def __init__(self, n_units):\n",
    "        super(Attention, self).__init__()\n",
    "        with self.init_scope():\n",
    "            # Encoder(BiLSTM)の中間層への線形変換\n",
    "            self.eW = L.Linear(n_units*2)\n",
    "            \n",
    "            # 一つ前のdecoder中間層の線形変換\n",
    "            self.dW = L.Linear(n_units*2)\n",
    "            \n",
    "            self.aW = L.Linear(1)\n",
    "    \n",
    "    def __call__(self, ehs, dh):\n",
    "        # (len, n_units)\n",
    "        encoder_hidden = self.eW(ehs)\n",
    "        decoder_hidden = F.broadcast_to(self.dW(dh), encoder_hidden.shape)\n",
    "        attention_hidden = F.tanh(encoder_hidden + decoder_hidden)\n",
    "        scores = F.softmax(self.aW(attention_hidden), axis=0)\n",
    "        context = F.matmul(F.transpose(scores), ehs)\n",
    "        # (1 , n_units*2)\n",
    "        return context"
   ]
  },
  {
   "cell_type": "markdown",
   "metadata": {},
   "source": [
    "Decoder  \n",
    "target言語の系列のリストと、一つ前の隠れ状態、セルを受け取る。  \n",
    "各タイムステップの隠れ状態を返す。"
   ]
  },
  {
   "cell_type": "markdown",
   "metadata": {},
   "source": [
    "入力: xs = [np.array(1,3,4...), np.array(...),...], h, c  \n",
    "出力: os = [(len, n_units), (len, n_units), ...]"
   ]
  },
  {
   "cell_type": "markdown",
   "metadata": {},
   "source": [
    "h = (1, n_units by 2)\n",
    "c = (1, n_units by 2)"
   ]
  },
  {
   "cell_type": "code",
   "execution_count": 357,
   "metadata": {},
   "outputs": [],
   "source": [
    "class Decoder(Chain):\n",
    "    \n",
    "    def __init__(self, n_layers, n_target_vocab, n_units, attention, dropout):\n",
    "        super(Decoder, self).__init__()\n",
    "        with self.init_scope():\n",
    "            self.n_target_vocab = n_target_vocab\n",
    "            self.target_embed = L.EmbedID(n_target_vocab, n_units, dropout)\n",
    "            self.n_layers = n_layers\n",
    "            if self.n_layers > 1:\n",
    "                self.pre_lstm = L.NStepLSTM(self.n_layers -1, n_units, n_units*2, dropout)\n",
    "            \n",
    "            self.Att = attention\n",
    "            self.dropout = dropout\n",
    "            \n",
    "            # topのLSTM\n",
    "            # 中間層がn_units*2なので、それを４倍にする。\n",
    "            self.lstm_input = L.Linear(n_units * 8)\n",
    "            self.lstm_previous = L.Linear(n_units * 8)\n",
    "            self.lstm_context = L.Linear(n_units * 8)\n",
    "            \n",
    "        \n",
    "    def __call__(self, hy, cy, ys, target_xs):\n",
    "        # attention以外の部分の計算\n",
    "        batch_size = len(ys)\n",
    "        \n",
    "        exs = sequence_embed(self.target_embed, target_xs)\n",
    "        hy = F.reshape(hy, (self.n_layers, batch_size, -1))\n",
    "        cy = F.reshape(cy, (self.n_layers, batch_size, -1))\n",
    "        if self.n_layers > 1:\n",
    "            unatt_n_layer = self.n_layers - 1\n",
    "            pre_hy = hy[:unatt_n_layer]\n",
    "            pre_cy = cy[:unatt_n_layer]\n",
    "            after_h, after_c, pre_os = self.pre_lstm(pre_hy, pre_cy, exs)\n",
    "        \n",
    "        else:\n",
    "            pre_os = exs\n",
    "            \n",
    "        # 最終層の計算\n",
    "        high_hy = hy[self.n_layers - 1]\n",
    "        high_cy = cy[self.n_layers - 1]\n",
    "        os = []\n",
    "        last_h = []\n",
    "        last_c = []\n",
    "        for i, pre_eos in enumerate(pre_os):\n",
    "            h = F.reshape(high_hy[i], (1,-1))\n",
    "            c = F.reshape(high_hy[i], (1,-1))\n",
    "            now_ys = ys[i]\n",
    "            temp_os = []\n",
    "            \n",
    "            pre_eos = F.dropout(pre_eos, self.dropout)\n",
    "            for x in pre_eos:\n",
    "                x = F.reshape(x, (1,-1))\n",
    "                context = self.Att(now_ys, h)\n",
    "                \n",
    "                c, h = F.lstm(c, self.lstm_input(x) + self.lstm_previous(h) + self.lstm_context(context))\n",
    "                temp_os.append(h)\n",
    "            last_h.append(h)\n",
    "            last_c.append(c)\n",
    "            os.append(F.concat(temp_os, axis=0))\n",
    "        \n",
    "        last_h = F.reshape(F.concat(last_h, axis=0), (1, batch_size, -1))\n",
    "        last_c = F.reshape(F.concat(last_c, axis=0), (1, batch_size, -1))\n",
    "        if self.n_layers > 1:\n",
    "            ho = F.concat([after_h, last_h], axis=0)\n",
    "            co = F.concat([after_c, last_c], axis=0)\n",
    "        else:\n",
    "            ho = last_h\n",
    "            co = last_c\n",
    "            \n",
    "        \n",
    "        return ho, co, os\n",
    "\n",
    "        \n",
    "\n",
    "        \n",
    "                "
   ]
  },
  {
   "cell_type": "code",
   "execution_count": 353,
   "metadata": {},
   "outputs": [],
   "source": [
    "UNK = 0\n",
    "EOS = 1"
   ]
  },
  {
   "cell_type": "code",
   "execution_count": 402,
   "metadata": {},
   "outputs": [],
   "source": [
    "class Encoder_Decoder_withAttention(Chain):\n",
    "    \n",
    "    def __init__(self, encoder, decoder):\n",
    "        super(Encoder_Decoder_withAttention, self).__init__()\n",
    "        with self.init_scope():\n",
    "            self.encoder = encoder\n",
    "            self.decoder = decoder\n",
    "        \n",
    "            self.W = L.Linear(self.decoder.n_target_vocab)\n",
    "            \n",
    "    def __call__(self, xs, ys):\n",
    "        eos = self.xp.array([EOS], 'i')\n",
    "        ys_in = [F.concat([eos, y], axis=0) for y in ys]\n",
    "        ys_out = [F.concat([y, eos], axis=0) for y in ys]\n",
    "        \n",
    "        hy, cy, ys = self.encoder(xs)\n",
    "        _, _, os = self.decoder(hy, cy, ys, ys_in)\n",
    "        \n",
    "        # loss calculation\n",
    "        batch_size = len(xs)\n",
    "        concat_os = F.concat(os, axis=0)\n",
    "        concat_ys_out = F.concat(ys_out, axis=0)\n",
    "        loss = F.sum(F.softmax_cross_entropy(\n",
    "            self.W(concat_os), concat_ys_out, reduce='no')) / batch_size\n",
    "        \n",
    "        return loss\n",
    "    \n",
    "    def translate(self, xs, max_length = 100):\n",
    "        batch_size = len(xs)\n",
    "        \n",
    "        with chainer.no_backprop_mode(), chainer.using_config('train', False):\n",
    "            # Encode\n",
    "            hy, cy, ys = self.encoder(xs)\n",
    "            \n",
    "            # decode時のinput用にbatch_size分のEOS=1を用意\n",
    "            target_xs = self.xp.full((batch_size,1), 1, 'i')\n",
    "            result = []\n",
    "            \n",
    "            ho = hy\n",
    "            co = cy\n",
    "            for i in range(max_length):\n",
    "                ho, co, os = self.decoder(ho, co, ys, target_xs) \n",
    "                concat_os = F.concat(os, axis=0)\n",
    "                wy = self.W(concat_os)\n",
    "                target_xs = self.xp.argmax(wy.data, axis=1).astype('i')\n",
    "                result.append(target_xs)\n",
    "                target_xs = F.reshape(target_xs, (-1, 1)).data\n",
    "            \n",
    "            result = self.xp.stack(result).T\n",
    "            # Remove EOS tags\n",
    "            outs = []\n",
    "            for y in result:\n",
    "                inds = np.argwhere(y == EOS)\n",
    "                if len(inds) > 0:\n",
    "                    y = y[:inds[0, 0]]\n",
    "                outs.append(y)\n",
    "        return outs\n",
    "            \n",
    "            \n",
    "            \n",
    "            "
   ]
  },
  {
   "cell_type": "code",
   "execution_count": 403,
   "metadata": {},
   "outputs": [],
   "source": [
    "xs = [np.random.randint(0, 50, size=np.random.randint(1, 15, 1)).astype('i')\n",
    "      for i in range(20)]"
   ]
  },
  {
   "cell_type": "code",
   "execution_count": 404,
   "metadata": {},
   "outputs": [
    {
     "data": {
      "text/plain": [
       "[array([ 9, 34, 45, 35, 43,  5, 13, 45, 33], dtype=int32),\n",
       " array([21,  8,  8, 12, 42], dtype=int32),\n",
       " array([20, 24,  9, 15], dtype=int32),\n",
       " array([0], dtype=int32),\n",
       " array([38, 20, 12, 28, 32, 36,  5, 40,  0,  8, 42, 23,  3], dtype=int32),\n",
       " array([22, 13, 14, 23, 27, 48, 40,  8, 29, 39], dtype=int32),\n",
       " array([38, 31, 46, 18, 26, 16, 31, 40, 19,  4,  5, 28, 43], dtype=int32),\n",
       " array([ 7, 10,  1, 11, 16, 23, 24], dtype=int32),\n",
       " array([ 7, 47, 31,  0, 48, 25,  7, 22, 16, 31, 44, 19, 24, 27], dtype=int32),\n",
       " array([44], dtype=int32),\n",
       " array([49, 18, 40, 19, 17, 27, 28, 20, 48, 37, 18], dtype=int32),\n",
       " array([41, 49], dtype=int32),\n",
       " array([36, 32, 32, 28, 48,  1, 25,  6, 37, 41,  3, 32], dtype=int32),\n",
       " array([15, 18, 16,  7, 45, 36, 17, 45, 12, 41, 25], dtype=int32),\n",
       " array([24, 23, 25,  0, 10], dtype=int32),\n",
       " array([ 4, 23, 13, 13], dtype=int32),\n",
       " array([ 4, 20, 32, 47, 37, 33, 34], dtype=int32),\n",
       " array([24, 45, 49, 20, 49,  5, 45, 17,  9,  6, 21], dtype=int32),\n",
       " array([46, 22,  9, 45, 18, 27,  9,  7, 18, 19, 13, 14], dtype=int32),\n",
       " array([33,  3, 17, 39, 37, 13], dtype=int32)]"
      ]
     },
     "execution_count": 404,
     "metadata": {},
     "output_type": "execute_result"
    }
   ],
   "source": [
    "xs"
   ]
  },
  {
   "cell_type": "code",
   "execution_count": 405,
   "metadata": {},
   "outputs": [],
   "source": [
    "encoder = Encoder(2, 50, 100, 0)"
   ]
  },
  {
   "cell_type": "code",
   "execution_count": 406,
   "metadata": {},
   "outputs": [],
   "source": [
    "hy, cy, ys = encoder(xs)"
   ]
  },
  {
   "cell_type": "code",
   "execution_count": 407,
   "metadata": {},
   "outputs": [],
   "source": [
    "att = Attention(100)"
   ]
  },
  {
   "cell_type": "code",
   "execution_count": 408,
   "metadata": {},
   "outputs": [],
   "source": [
    "decoder = Decoder(n_layers=2, n_target_vocab=100, n_units=100, attention=att, dropout=0)"
   ]
  },
  {
   "cell_type": "code",
   "execution_count": 409,
   "metadata": {},
   "outputs": [
    {
     "data": {
      "text/plain": [
       "(2, 20, 200)"
      ]
     },
     "execution_count": 409,
     "metadata": {},
     "output_type": "execute_result"
    }
   ],
   "source": [
    "decoder(hy, cy, ys, xs)[1].shape"
   ]
  },
  {
   "cell_type": "code",
   "execution_count": 410,
   "metadata": {},
   "outputs": [],
   "source": [
    "eda = Encoder_Decoder_withAttention(encoder, decoder)"
   ]
  },
  {
   "cell_type": "code",
   "execution_count": 413,
   "metadata": {},
   "outputs": [
    {
     "data": {
      "text/plain": [
       "[array([23, 21, 21,  7,  7,  7,  7,  7,  7,  7,  7,  7,  7,  7,  7,  7,  7,\n",
       "         7,  7,  7,  7,  7,  7,  7,  7,  7,  7,  7,  7,  7,  7,  7,  7,  7,\n",
       "         7,  7,  7,  7,  7,  7,  7,  7,  7,  7,  7,  7,  7,  7,  7,  7,  7,\n",
       "         7,  7,  7,  7,  7,  7,  7,  7,  7,  7,  7,  7,  7,  7,  7,  7,  7,\n",
       "         7,  7,  7,  7,  7,  7,  7,  7,  7,  7,  7,  7,  7,  7,  7,  7,  7,\n",
       "         7,  7,  7,  7,  7,  7,  7,  7,  7,  7,  7,  7,  7,  7,  7], dtype=int32),\n",
       " array([49, 49, 49, 73, 73, 73, 73, 73, 73, 73, 73, 73, 73, 73, 73, 73, 73,\n",
       "        73, 73, 73, 73, 73, 73, 73, 73, 73, 73, 73, 73, 73, 73, 73, 73, 73,\n",
       "        73, 73, 73, 73, 73, 73, 73, 73, 73, 73, 73, 73, 73, 73, 73, 73, 73,\n",
       "        73, 73, 73, 73, 73, 73, 73, 73, 73, 73, 73, 73, 73, 73, 73, 73, 73,\n",
       "        73, 73, 73, 73, 73, 73, 73, 73, 73, 73, 73, 73, 73, 73, 73, 73, 73,\n",
       "        73, 73, 73, 73, 73, 73, 73, 73, 73, 73, 73, 73, 73, 73, 73], dtype=int32),\n",
       " array([17,  8, 30, 30, 30, 30, 30, 30, 30, 30, 30, 30, 30, 30, 30, 30, 30,\n",
       "        30, 30, 30, 30, 30, 30, 30, 30, 30, 30, 30, 30, 30, 30, 30, 30, 30,\n",
       "        30, 30, 30, 30, 30, 30, 30, 30, 30, 30, 30, 30, 30, 30, 30, 30, 30,\n",
       "        30, 30, 30, 30, 30, 30, 30, 30, 30, 30, 30, 30, 30, 30, 30, 30, 30,\n",
       "        30, 30, 30, 30, 30, 30, 30, 30, 30, 30, 30, 30, 30, 30, 30, 30, 30,\n",
       "        30, 30, 30, 30, 30, 30, 30, 30, 30, 30, 30, 30, 30, 30, 30], dtype=int32),\n",
       " array([66, 33,  2,  2,  2,  2,  2,  2,  2,  2,  2,  2,  2,  2,  2,  2,  2,\n",
       "         2,  2,  2,  2,  2,  2,  2,  2,  2,  2,  2,  2,  2,  2,  2,  2,  2,\n",
       "         2,  2,  2,  2,  2,  2,  2,  2,  2,  2,  2,  2,  2,  2,  2,  2,  2,\n",
       "         2,  2,  2,  2,  2,  2,  2,  2,  2,  2,  2,  2,  2,  2,  2,  2,  2,\n",
       "         2,  2,  2,  2,  2,  2,  2,  2,  2,  2,  2,  2,  2,  2,  2,  2,  2,\n",
       "         2,  2,  2,  2,  2,  2,  2,  2,  2,  2,  2,  2,  2,  2,  2], dtype=int32),\n",
       " array([17, 99, 85, 85, 86, 86, 86, 86, 86, 86, 86, 86, 86, 86, 86, 86, 86,\n",
       "        86, 86, 86, 86, 86, 86, 86, 86, 86, 86, 86, 86, 86, 86, 86, 86, 86,\n",
       "        86, 86, 86, 86, 86, 86, 86, 86, 86, 86, 86, 86, 86, 86, 86, 86, 86,\n",
       "        86, 86, 86, 86, 86, 86, 86, 86, 86, 86, 86, 86, 86, 86, 86, 86, 86,\n",
       "        86, 86, 86, 86, 86, 86, 86, 86, 86, 86, 86, 86, 86, 86, 86, 86, 86,\n",
       "        86, 86, 86, 86, 86, 86, 86, 86, 86, 86, 86, 86, 86, 86, 86], dtype=int32),\n",
       " array([ 0,  5,  5,  5,  5, 65, 65, 65, 65, 65, 65, 65, 65, 65, 65, 65, 65,\n",
       "        65, 65, 65, 65, 65, 65, 65, 65, 65, 65, 65, 65, 65, 65, 65, 65, 65,\n",
       "        65, 65, 65, 65, 65, 65, 65, 65, 65, 65, 65, 65, 65, 65, 65, 65, 65,\n",
       "        65, 65, 65, 65, 65, 65, 65, 65, 65, 65, 65, 65, 65, 65, 65, 65, 65,\n",
       "        65, 65, 65, 65, 65, 65, 65, 65, 65, 65, 65, 65, 65, 65, 65, 65, 65,\n",
       "        65, 65, 65, 65, 65, 65, 65, 65, 65, 65, 65, 65, 65, 65, 65], dtype=int32),\n",
       " array([53, 28, 85, 85, 64, 64, 64, 64, 64, 64, 64, 64, 64, 64, 64, 64, 64,\n",
       "        64, 64, 64, 64, 64, 64, 64, 64, 64, 64, 64, 64, 64, 64, 64, 64, 64,\n",
       "        64, 64, 64, 64, 64, 64, 64, 64, 64, 64, 64, 64, 64, 64, 64, 64, 64,\n",
       "        64, 64, 64, 64, 64, 64, 64, 64, 64, 64, 64, 64, 64, 64, 64, 64, 64,\n",
       "        64, 64, 64, 64, 64, 64, 64, 64, 64, 64, 64, 64, 64, 64, 64, 64, 64,\n",
       "        64, 64, 64, 64, 64, 64, 64, 64, 64, 64, 64, 64, 64, 64, 64], dtype=int32),\n",
       " array([23, 84, 89, 89, 89, 89, 89, 89, 24, 10, 10, 10, 10, 10, 10, 10, 10,\n",
       "        10, 10, 10, 10, 10, 10, 10, 10, 10, 10, 10, 10, 10, 10, 10, 10, 10,\n",
       "        10, 10, 10, 10, 10, 10, 10, 10, 10, 10, 10, 10, 10, 10, 10, 10, 10,\n",
       "        10, 10, 10, 10, 10, 10, 10, 10, 10, 10, 10, 10, 10, 10, 10, 10, 10,\n",
       "        10, 10, 10, 10, 10, 10, 10, 10, 10, 10, 10, 10, 10, 10, 10, 10, 10,\n",
       "        10, 10, 10, 10, 10, 10, 10, 10, 10, 10, 10, 10, 10, 10, 10], dtype=int32),\n",
       " array([91, 49, 49, 49, 49, 49, 54, 54, 54, 14, 14, 54, 54, 54, 54, 54, 54,\n",
       "        54, 54, 54, 54, 54, 54, 54, 54, 54, 54, 54, 54, 54, 54, 54, 54, 54,\n",
       "        54, 54, 54, 54, 54, 54, 54, 54, 54, 54, 54, 54, 54, 54, 54, 54, 54,\n",
       "        54, 54, 54, 54, 54, 54, 54, 54, 54, 54, 54, 54, 54, 54, 54, 54, 54,\n",
       "        54, 54, 54, 54, 54, 54, 54, 54, 54, 54, 54, 54, 54, 54, 54, 54, 54,\n",
       "        54, 54, 54, 54, 54, 54, 54, 54, 54, 54, 54, 54, 54, 54, 54], dtype=int32),\n",
       " array([27, 72, 14, 14, 49, 49, 49, 49, 49, 49, 49, 49, 49, 49, 49, 49, 49,\n",
       "        49, 49, 49, 49, 49, 49, 49, 49, 49, 49, 49, 49, 49, 49, 49, 49, 49,\n",
       "        49, 49, 49, 49, 49, 49, 49, 49, 49, 49, 49, 49, 49, 49, 49, 49, 49,\n",
       "        49, 49, 49, 49, 49, 49, 49, 49, 49, 49, 49, 49, 49, 49, 49, 49, 49,\n",
       "        49, 49, 49, 49, 49, 49, 49, 49, 49, 49, 49, 49, 49, 49, 49, 49, 49,\n",
       "        49, 49, 49, 49, 49, 49, 49, 49, 49, 49, 49, 49, 49, 49, 49], dtype=int32),\n",
       " array([46, 41, 41, 41, 41, 41, 41, 41, 41, 85, 85, 41, 41, 41, 41, 41, 41,\n",
       "        41, 41, 41, 41, 41, 41, 41, 41, 41, 41, 41, 41, 41, 41, 41, 41, 41,\n",
       "        41, 41, 41, 41, 41, 41, 41, 41, 41, 41, 41, 41, 41, 41, 41, 41, 41,\n",
       "        41, 41, 41, 41, 41, 41, 41, 41, 41, 41, 41, 41, 41, 41, 41, 41, 41,\n",
       "        41, 41, 41, 41, 41, 41, 41, 41, 41, 41, 41, 41, 41, 41, 41, 41, 41,\n",
       "        41, 41, 41, 41, 41, 41, 41, 41, 41, 41, 41, 41, 41, 41, 41], dtype=int32),\n",
       " array([ 0,  4,  4,  4, 30, 30, 30, 30, 30, 30, 30, 30, 30, 30, 30, 30, 30,\n",
       "        30, 30, 30, 30, 30, 30, 30, 30, 30, 30, 30, 30, 30, 30, 30, 30, 30,\n",
       "        30, 30, 30, 30, 30, 30, 30, 30, 30, 30, 30, 30, 30, 30, 30, 30, 30,\n",
       "        30, 30, 30, 30, 30, 30, 30, 30, 30, 30, 30, 30, 30, 30, 30, 30, 30,\n",
       "        30, 30, 30, 30, 30, 30, 30, 30, 30, 30, 30, 30, 30, 30, 30, 30, 30,\n",
       "        30, 30, 30, 30, 30, 30, 30, 30, 30, 30, 30, 30, 30, 30, 30], dtype=int32),\n",
       " array([85, 24, 27, 27, 27, 28, 28, 28, 28, 28, 28, 28, 28, 28, 28, 28, 28,\n",
       "        28, 28, 28, 28, 28, 28, 28, 28, 28, 28, 28, 28, 28, 28, 28, 28, 28,\n",
       "        28, 28, 28, 28, 28, 28, 28, 28, 28, 28, 28, 28, 28, 28, 28, 28, 28,\n",
       "        28, 28, 28, 28, 28, 28, 28, 28, 28, 28, 28, 28, 28, 28, 28, 28, 28,\n",
       "        28, 28, 28, 28, 28, 28, 28, 28, 28, 28, 28, 28, 28, 28, 28, 28, 28,\n",
       "        28, 28, 28, 28, 28, 28, 28, 28, 28, 28, 28, 28, 28, 28, 28], dtype=int32),\n",
       " array([51, 24, 27, 32, 66, 66, 66, 56, 56, 48, 48, 48, 48, 48, 48, 48, 48,\n",
       "        48, 48, 48, 48, 48, 48, 48, 48, 48, 48, 48, 48, 48, 48, 48, 48, 48,\n",
       "        48, 48, 48, 48, 48, 48, 48, 48, 48, 48, 48, 48, 48, 48, 48, 48, 48,\n",
       "        48, 48, 48, 48, 48, 48, 48, 48, 48, 48, 48, 48, 48, 48, 48, 48, 48,\n",
       "        48, 48, 48, 48, 48, 48, 48, 48, 48, 48, 48, 48, 48, 48, 48, 48, 48,\n",
       "        48, 48, 48, 48, 48, 48, 48, 48, 48, 48, 48, 48, 48, 48, 48], dtype=int32),\n",
       " array([13, 67, 24, 49, 49, 49, 49, 49, 49, 49, 49, 49, 49, 49, 49, 49, 49,\n",
       "        49, 49, 49, 49, 49, 49, 49, 49, 49, 49, 49, 49, 49, 49, 49, 49, 49,\n",
       "        49, 49, 49, 49, 49, 49, 49, 49, 49, 49, 49, 49, 49, 49, 49, 49, 49,\n",
       "        49, 49, 49, 49, 49, 49, 49, 49, 49, 49, 49, 49, 49, 49, 49, 49, 49,\n",
       "        49, 49, 49, 49, 49, 49, 49, 49, 49, 49, 49, 49, 49, 49, 49, 49, 49,\n",
       "        49, 49, 49, 49, 49, 49, 49, 49, 49, 49, 49, 49, 49, 49, 49], dtype=int32),\n",
       " array([59, 24, 24, 24, 24, 24, 24, 24,  7,  7,  7,  7,  7,  7,  7,  7,  7,\n",
       "         7,  7,  7,  7,  7,  7,  7,  7,  7,  7,  7,  7,  7,  7,  7,  7,  7,\n",
       "         7,  7,  7,  7,  7,  7,  7,  7,  7,  7,  7,  7,  7,  7,  7,  7,  7,\n",
       "         7,  7,  7,  7,  7,  7,  7,  7,  7,  7,  7,  7,  7,  7,  7,  7,  7,\n",
       "         7,  7,  7,  7,  7,  7,  7,  7,  7,  7,  7,  7,  7,  7,  7,  7,  7,\n",
       "         7,  7,  7,  7,  7,  7,  7,  7,  7,  7,  7,  7,  7,  7,  7], dtype=int32),\n",
       " array([88, 21, 82, 82, 82, 38, 38, 38, 38, 38, 38, 38, 38, 38, 38, 38, 38,\n",
       "        38, 38, 38, 38, 38, 38, 38, 38, 38, 38, 38, 38, 38, 38, 38, 38, 38,\n",
       "        38, 38, 38, 38, 38, 38, 38, 38, 38, 38, 38, 38, 38, 38, 38, 38, 38,\n",
       "        38, 38, 38, 38, 38, 38, 38, 38, 38, 38, 38, 38, 38, 38, 38, 38, 38,\n",
       "        38, 38, 38, 38, 38, 38, 38, 38, 38, 38, 38, 38, 38, 38, 38, 38, 38,\n",
       "        38, 38, 38, 38, 38, 38, 38, 38, 38, 38, 38, 38, 38, 38, 38], dtype=int32),\n",
       " array([30, 30, 30, 30, 30, 30, 30, 30, 30, 30, 30, 30, 30, 30, 30, 87, 87,\n",
       "        87, 87, 87, 87, 87, 87, 87, 87, 87, 87, 87, 87, 87, 87, 87, 87, 87,\n",
       "        87, 87, 87, 87, 87, 87, 87, 87, 87, 87, 87, 87, 87, 87, 87, 87, 87,\n",
       "        87, 87, 87, 87, 87, 87, 87, 87, 87, 87, 87, 87, 87, 87, 87, 87, 87,\n",
       "        87, 87, 87, 87, 87, 87, 87, 87, 87, 87, 87, 87, 87, 87, 87, 87, 87,\n",
       "        87, 87, 87, 87, 87, 87, 87, 87, 87, 87, 87, 87, 87, 87, 87], dtype=int32),\n",
       " array([57, 73, 73, 73, 76, 76, 76, 76, 76, 65, 65, 65, 65, 65, 65, 65, 65,\n",
       "        65, 65, 65, 65, 65, 65, 65, 65, 65, 65, 65, 65, 65, 65, 65, 65, 65,\n",
       "        65, 65, 65, 65, 65, 65, 65, 65, 65, 65, 65, 65, 65, 65, 65, 65, 65,\n",
       "        65, 65, 65, 65, 65, 65, 65, 65, 65, 65, 65, 65, 65, 65, 65, 65, 65,\n",
       "        65, 65, 65, 65, 65, 65, 65, 65, 65, 65, 65, 65, 65, 65, 65, 65, 65,\n",
       "        65, 65, 65, 65, 65, 65, 65, 65, 65, 65, 65, 65, 65, 65, 65], dtype=int32),\n",
       " array([71, 71, 71, 36, 36, 36, 71, 71, 86, 86, 86, 86, 86, 86, 86, 86, 86,\n",
       "        86, 86, 86, 86, 86, 86, 86, 86, 86, 86, 86, 86, 86, 86, 86, 86, 86,\n",
       "        86, 86, 86, 86, 86, 86, 86, 86, 86, 86, 86, 86, 86, 86, 86, 86, 86,\n",
       "        86, 86, 86, 86, 86, 86, 86, 86, 86, 86, 86, 86, 86, 86, 86, 86, 86,\n",
       "        86, 86, 86, 86, 86, 86, 86, 86, 86, 86, 86, 86, 86, 86, 86, 86, 86,\n",
       "        86, 86, 86, 86, 86, 86, 86, 86, 86, 86, 86, 86, 86, 86, 86], dtype=int32)]"
      ]
     },
     "execution_count": 413,
     "metadata": {},
     "output_type": "execute_result"
    }
   ],
   "source": [
    "eda.translate(xs)"
   ]
  },
  {
   "cell_type": "code",
   "execution_count": null,
   "metadata": {},
   "outputs": [],
   "source": []
  },
  {
   "cell_type": "code",
   "execution_count": null,
   "metadata": {},
   "outputs": [],
   "source": []
  }
 ],
 "metadata": {
  "kernelspec": {
   "display_name": "Python 3",
   "language": "python",
   "name": "python3"
  },
  "language_info": {
   "codemirror_mode": {
    "name": "ipython",
    "version": 3
   },
   "file_extension": ".py",
   "mimetype": "text/x-python",
   "name": "python",
   "nbconvert_exporter": "python",
   "pygments_lexer": "ipython3",
   "version": "3.6.1"
  }
 },
 "nbformat": 4,
 "nbformat_minor": 2
}
