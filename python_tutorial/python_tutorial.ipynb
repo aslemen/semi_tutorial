{
 "cells": [
  {
   "cell_type": "markdown",
   "metadata": {},
   "source": [
    "# Pythonプログラミング発展\n",
    "このチュートリアルではpythonのクラスについて理解を深めます。  \n",
    "私を含めた初心者は、ライブラリを使うときに、外側から何らかのクラスやメソッドに触れはしますが、普段のプログラミングでは関数ばかり使いがちです。  \n",
    "しかし、ChainerやPyTorchでモデルを記述する際にはクラスが登場しますので、クラスを自分で定義できないといけません。  \n",
    "面食らわないためにクラスについて簡単に学んでおきましょう。\n",
    "\n",
    "※ 私はあまりプログラミングの用語（オブジェクト指向など）には詳しくないので、以下ではおそらく雑な言葉遣いをしています。  \n",
    "※ 間違いがあれば指摘してください。\n",
    "\n",
    "説明では「selfって何？」とかいろいろと端折っていますが、詳しくは公式のドキュメントなど参照してください。  \n",
    "https://docs.python.jp/3/tutorial/classes.html  \n",
    "http://www.python-izm.com/contents/application/class.shtml"
   ]
  },
  {
   "cell_type": "markdown",
   "metadata": {},
   "source": [
    "---"
   ]
  },
  {
   "cell_type": "markdown",
   "metadata": {},
   "source": [
    "# クラスとは？"
   ]
  },
  {
   "cell_type": "markdown",
   "metadata": {},
   "source": [
    "そもそもクラスってなんでしょうか。関数となにが違うのでしょうか。  \n",
    "\n",
    "関数は、何らかの入力を受けとり、それに処理を加えて出力します。  \n",
    "たとえば、"
   ]
  },
  {
   "cell_type": "code",
   "execution_count": 1,
   "metadata": {
    "collapsed": false
   },
   "outputs": [
    {
     "name": "stdout",
     "output_type": "stream",
     "text": [
      "4\n",
      "4.141500000000001\n"
     ]
    }
   ],
   "source": [
    "def add_one(x):\n",
    "    return x+1\n",
    "\n",
    "print(add_one(3))\n",
    "print(add_one(3.1415))"
   ]
  },
  {
   "cell_type": "markdown",
   "metadata": {},
   "source": [
    "↑はなんらかの数字(intでもfloatでも)を受け取り、プラス１した値を返してくれる関数です。"
   ]
  },
  {
   "cell_type": "markdown",
   "metadata": {},
   "source": [
    "一方、**クラス（データ型）**は、何らかの**要素・情報の集まり（属性）**と**それに対する処理（メソッド）**のセットからなります。  \n",
    "[Pythonスタートブック](https://www.amazon.co.jp/Pythonスタートブック-辻-真吾/dp/4774142298/ref=sr_1_1?s=books&ie=UTF8&qid=1507012270&sr=1-1&keywords=pythonスタートブック)では、料理における素材と調理道具のセットという比喩で説明されていました。"
   ]
  },
  {
   "cell_type": "markdown",
   "metadata": {},
   "source": [
    "いつもなんとなく使っている文字列などもstrというオブジェクトで、メソッドを持っています。"
   ]
  },
  {
   "cell_type": "code",
   "execution_count": 2,
   "metadata": {
    "collapsed": false
   },
   "outputs": [
    {
     "data": {
      "text/plain": [
       "str"
      ]
     },
     "execution_count": 2,
     "metadata": {},
     "output_type": "execute_result"
    }
   ],
   "source": [
    "type('Abc')"
   ]
  },
  {
   "cell_type": "code",
   "execution_count": 3,
   "metadata": {
    "collapsed": false
   },
   "outputs": [
    {
     "data": {
      "text/plain": [
       "'abc'"
      ]
     },
     "execution_count": 3,
     "metadata": {},
     "output_type": "execute_result"
    }
   ],
   "source": [
    "'Abc'.lower()"
   ]
  },
  {
   "cell_type": "markdown",
   "metadata": {},
   "source": [
    "↑では、strオブジェクトに付随するlowerメソッドを使って、'abc'というstrオブジェクトに変換しています。"
   ]
  },
  {
   "cell_type": "markdown",
   "metadata": {},
   "source": [
    "strはpythonに予め用意されているクラスですが、クラスは自分でも作ることができます。  \n",
    "\n",
    "たとえば、Chainerでニューラルネットワークのモデルを記述する際は、様々なNNレイヤーを要素としてオブジェクト内に保持しておき、  \n",
    "メソッドで、それらをいかに組み合わせて計算するかを定義します。"
   ]
  },
  {
   "cell_type": "markdown",
   "metadata": {},
   "source": [
    "以下では、pythonのクラスの感覚をつかむために、クラスを使ってサイコロを作ってみましょう。"
   ]
  },
  {
   "cell_type": "markdown",
   "metadata": {},
   "source": [
    "## クラスを使ってサイコロを作る"
   ]
  },
  {
   "cell_type": "markdown",
   "metadata": {},
   "source": [
    "一般的な６面ダイスを考えます。  \n",
    "\n",
    "クラスを書くときは、今自分が実装したいものの、属性と、それに対する処理を考えるとよいでしょう。  \n",
    "サイコロに関して言うならば、　　\n",
    "\n",
    "- 属性\n",
    "    - 1から6の数字を持つ面が、それぞれ一個ずつある。\n",
    "- 処理\n",
    "    - サイコロを転がして、ランダムに面の中のどれか一つの数字を出力する。\n",
    "\n",
    "これらをクラスで表現します。"
   ]
  },
  {
   "cell_type": "code",
   "execution_count": 4,
   "metadata": {
    "collapsed": true
   },
   "outputs": [],
   "source": [
    "# randomをインポート\n",
    "import random\n",
    "\n",
    "\n",
    "class Dice:\n",
    "    \n",
    "    # サイコロの属性を定義する\n",
    "    def __init__(self):\n",
    "        print('サイコロ用意したよ！')\n",
    "        self.surface = list(range(1, 7)) # 1から6までの数字のリスト\n",
    "    \n",
    "    # サイコロに加える処理（メソッド）を定義する\n",
    "    def throw(self):\n",
    "        return random.choice(self.surface)"
   ]
  },
  {
   "cell_type": "markdown",
   "metadata": {},
   "source": [
    "属性として1~6までの数字のリストを持ち、メソッドとしてそこからrandomに一つ選んで出力する処理を持つクラス**Dice**を定義しました。  \n",
    "`def __init__`は、オブジェクトを生成したときに実行される処理で、大体ここで属性を記述します。  \n",
    "メソッドの第一引数にselfを入れるのを忘れないように。"
   ]
  },
  {
   "cell_type": "markdown",
   "metadata": {},
   "source": [
    "では、実際にDiceオブジェクトを作って、サイコロをを投げて遊んでみましょう。"
   ]
  },
  {
   "cell_type": "code",
   "execution_count": 5,
   "metadata": {
    "collapsed": false
   },
   "outputs": [
    {
     "name": "stdout",
     "output_type": "stream",
     "text": [
      "サイコロ用意したよ！\n"
     ]
    }
   ],
   "source": [
    "dice = Dice()"
   ]
  },
  {
   "cell_type": "code",
   "execution_count": 6,
   "metadata": {
    "collapsed": false
   },
   "outputs": [
    {
     "data": {
      "text/plain": [
       "[1, 2, 3, 4, 5, 6]"
      ]
     },
     "execution_count": 6,
     "metadata": {},
     "output_type": "execute_result"
    }
   ],
   "source": [
    "dice.surface"
   ]
  },
  {
   "cell_type": "markdown",
   "metadata": {},
   "source": [
    "用意してくれました。ちゃんと６面あります。  \n",
    "とりあえず１０回投げてみます。"
   ]
  },
  {
   "cell_type": "code",
   "execution_count": 7,
   "metadata": {
    "collapsed": false
   },
   "outputs": [
    {
     "name": "stdout",
     "output_type": "stream",
     "text": [
      "1\n",
      "6\n",
      "5\n",
      "5\n",
      "1\n",
      "5\n",
      "1\n",
      "3\n",
      "5\n",
      "4\n"
     ]
    }
   ],
   "source": [
    "for i in range(10):\n",
    "    print(dice.throw())"
   ]
  },
  {
   "cell_type": "markdown",
   "metadata": {},
   "source": [
    "計算機上のサイコロにおいてはサイコロの形に制約はなく、マシンが許す限り何面ダイスでも作ることができます。  \n",
    "サイコロを用意する時に数字を入力して、面の数を決められるようにDiceを改良しましょう。"
   ]
  },
  {
   "cell_type": "code",
   "execution_count": 8,
   "metadata": {
    "collapsed": true
   },
   "outputs": [],
   "source": [
    "class Dice:\n",
    "    def __init__(self, n):\n",
    "        print('{}面ダイスを用意したよ！'.format(n))\n",
    "        self.surface = list(range(1, n+1))\n",
    "    \n",
    "    def throw(self):\n",
    "        return random.choice(self.surface)"
   ]
  },
  {
   "cell_type": "markdown",
   "metadata": {},
   "source": [
    "17面ダイスを作ってみます。"
   ]
  },
  {
   "cell_type": "code",
   "execution_count": 9,
   "metadata": {
    "collapsed": false
   },
   "outputs": [
    {
     "name": "stdout",
     "output_type": "stream",
     "text": [
      "17面ダイスを用意したよ！\n"
     ]
    }
   ],
   "source": [
    "dice = Dice(17)"
   ]
  },
  {
   "cell_type": "code",
   "execution_count": 10,
   "metadata": {
    "collapsed": false
   },
   "outputs": [
    {
     "data": {
      "text/plain": [
       "[1, 2, 3, 4, 5, 6, 7, 8, 9, 10, 11, 12, 13, 14, 15, 16, 17]"
      ]
     },
     "execution_count": 10,
     "metadata": {},
     "output_type": "execute_result"
    }
   ],
   "source": [
    "dice.surface"
   ]
  },
  {
   "cell_type": "code",
   "execution_count": 11,
   "metadata": {
    "collapsed": false
   },
   "outputs": [
    {
     "name": "stdout",
     "output_type": "stream",
     "text": [
      "11\n",
      "8\n",
      "11\n",
      "10\n",
      "13\n",
      "17\n",
      "10\n",
      "3\n",
      "15\n",
      "11\n"
     ]
    }
   ],
   "source": [
    "for i in range(10):\n",
    "    print(dice.throw())"
   ]
  },
  {
   "cell_type": "markdown",
   "metadata": {},
   "source": [
    "もちろん、メソッドを何個も用意することも可能です。  \n",
    "Diceに、「任意の回数だけthrowを行い、出た目の数を合計する処理」を追加してみましょう。"
   ]
  },
  {
   "cell_type": "code",
   "execution_count": 12,
   "metadata": {
    "collapsed": true
   },
   "outputs": [],
   "source": [
    "class Dice:\n",
    "    def __init__(self, n):\n",
    "        print('{}面ダイスを用意したよ！'.format(n))\n",
    "        self.surface = list(range(1, n+1))\n",
    "    \n",
    "    def throw(self):\n",
    "        return random.choice(self.surface)\n",
    "    \n",
    "    def n_throw_sum(self, n_throw):\n",
    "        output_surfaces = [self.throw() for i in range(n_throw)]\n",
    "        return sum(output_surfaces)"
   ]
  },
  {
   "cell_type": "code",
   "execution_count": 13,
   "metadata": {
    "collapsed": false
   },
   "outputs": [
    {
     "name": "stdout",
     "output_type": "stream",
     "text": [
      "6面ダイスを用意したよ！\n"
     ]
    }
   ],
   "source": [
    "dice = Dice(6)"
   ]
  },
  {
   "cell_type": "code",
   "execution_count": 14,
   "metadata": {
    "collapsed": false
   },
   "outputs": [
    {
     "data": {
      "text/plain": [
       "323"
      ]
     },
     "execution_count": 14,
     "metadata": {},
     "output_type": "execute_result"
    }
   ],
   "source": [
    "dice.n_throw_sum(100)"
   ]
  },
  {
   "cell_type": "markdown",
   "metadata": {},
   "source": [
    "なんか出ました。  \n",
    "１００回投げて出ための合計の様子を、１０個分調べてみます。"
   ]
  },
  {
   "cell_type": "code",
   "execution_count": 15,
   "metadata": {
    "collapsed": false
   },
   "outputs": [
    {
     "name": "stdout",
     "output_type": "stream",
     "text": [
      "318\n",
      "356\n",
      "367\n",
      "365\n",
      "389\n",
      "369\n",
      "346\n",
      "379\n",
      "361\n",
      "319\n"
     ]
    }
   ],
   "source": [
    "for i in range(10):\n",
    "    print(dice.n_throw_sum(100))"
   ]
  },
  {
   "cell_type": "markdown",
   "metadata": {},
   "source": [
    "１回だけ振ったときの目の期待値が3.5なので、だいたいこんなもんですかね。"
   ]
  },
  {
   "cell_type": "markdown",
   "metadata": {},
   "source": [
    "## クラスの継承について"
   ]
  },
  {
   "cell_type": "markdown",
   "metadata": {},
   "source": [
    "クラスを定義することでサイコロが振れるようになりました。  \n",
    "次は、クラスの継承について学びます。  \n",
    "継承を行うことで、元のクラスを土台に、属性やメソッドを付け足すことができます。  \n",
    "継承はChainerでも、モデルとモデルを結びつける際に行われます。\n",
    "\n",
    "継承は、最初はわりととっつきにくいかもしれません。以下のサイトなども参考になるでしょう。  \n",
    "http://memopy.hatenadiary.jp/entry/2017/06/10/152057\n",
    "\n",
    "今回は、サイコロの振る舞いを調べる記録の役割を果たす**Dice_note**というクラスを作ってみましょう。"
   ]
  },
  {
   "cell_type": "code",
   "execution_count": 16,
   "metadata": {
    "collapsed": true
   },
   "outputs": [],
   "source": [
    "class Dice_Note(Dice): # ベースとなるクラス（スーパークラス）を引数で指定します。\n",
    "    def __init__(self, n):\n",
    "        super().__init__(n) # python3ではsuper()を使用して、スーパークラスを参照できます。ここではDiceの__init__を参照しています。\n",
    "                            # super()で参照する場合、引数にselfはいらないことを注意してください。\n",
    "        \n",
    "        self.property = '{}面ダイスのノートだよ！'.format(n)"
   ]
  },
  {
   "cell_type": "markdown",
   "metadata": {},
   "source": [
    "`super()`で`Dice.__init__`を参照することで、DiceのもろもろがDice_Noteにも引き継がれます。"
   ]
  },
  {
   "cell_type": "code",
   "execution_count": 17,
   "metadata": {
    "collapsed": false
   },
   "outputs": [
    {
     "name": "stdout",
     "output_type": "stream",
     "text": [
      "6面ダイスを用意したよ！\n"
     ]
    }
   ],
   "source": [
    "dice_note = Dice_Note(6) # 6面ダイスの振る舞いを調べるノート作成します。"
   ]
  },
  {
   "cell_type": "markdown",
   "metadata": {},
   "source": [
    "`super.__init__()`によって、`Dice.__init__(self, 6)`が呼び出され、  \n",
    "'6面ダイスを用意したよ！'という文字列がprintされました。"
   ]
  },
  {
   "cell_type": "code",
   "execution_count": 18,
   "metadata": {
    "collapsed": false
   },
   "outputs": [
    {
     "data": {
      "text/plain": [
       "'6面ダイスのノートだよ！'"
      ]
     },
     "execution_count": 18,
     "metadata": {},
     "output_type": "execute_result"
    }
   ],
   "source": [
    "dice_note.property"
   ]
  },
  {
   "cell_type": "markdown",
   "metadata": {},
   "source": [
    "もちろん、Dice_Noteの属性であるpropertyにも、ちゃんと、Dice_Noteで定義した情報が入っています。  \n",
    "Diceの属性・メソッドはどうでしょうか。"
   ]
  },
  {
   "cell_type": "code",
   "execution_count": 19,
   "metadata": {
    "collapsed": false
   },
   "outputs": [
    {
     "data": {
      "text/plain": [
       "[1, 2, 3, 4, 5, 6]"
      ]
     },
     "execution_count": 19,
     "metadata": {},
     "output_type": "execute_result"
    }
   ],
   "source": [
    "dice_note.surface"
   ]
  },
  {
   "cell_type": "code",
   "execution_count": 20,
   "metadata": {
    "collapsed": false
   },
   "outputs": [
    {
     "data": {
      "text/plain": [
       "5"
      ]
     },
     "execution_count": 20,
     "metadata": {},
     "output_type": "execute_result"
    }
   ],
   "source": [
    "dice_note.throw()"
   ]
  },
  {
   "cell_type": "code",
   "execution_count": 21,
   "metadata": {
    "collapsed": false
   },
   "outputs": [
    {
     "data": {
      "text/plain": [
       "383"
      ]
     },
     "execution_count": 21,
     "metadata": {},
     "output_type": "execute_result"
    }
   ],
   "source": [
    "dice_note.n_throw_sum(100)"
   ]
  },
  {
   "cell_type": "markdown",
   "metadata": {},
   "source": [
    "Diceの属性・メソッドが、ちゃんとDice_Noteに引き継がれていることがわかります。  \n",
    "では、異常を踏まえて、本格的にサイコロの振る舞いを調べるためのクラスDice_Noteを作っていきます。"
   ]
  },
  {
   "cell_type": "markdown",
   "metadata": {},
   "source": [
    "Dice.n_throw_sumは、サイコロの処理というより、サイコロの出た目の記録であると解釈し、  \n",
    "出た目の合計の出力はDice_Noteのメソッドに移します。"
   ]
  },
  {
   "cell_type": "code",
   "execution_count": 22,
   "metadata": {
    "collapsed": true
   },
   "outputs": [],
   "source": [
    "# Diceの再定義（n_throw_sumを削る）\n",
    "class Dice:\n",
    "    def __init__(self, n):\n",
    "        print('{}面ダイスを用意したよ！'.format(n))\n",
    "        self.surface = list(range(1, n+1))\n",
    "    \n",
    "    def throw(self):\n",
    "        return random.choice(self.surface)\n",
    "\n",
    "# Dice_Note\n",
    "class Dice_Note(Dice):\n",
    "    def __init__(self, n):\n",
    "        super().__init__(n)\n",
    "        self.property = '{}面ダイスのノートだよ！'.format(n)\n",
    "        \n",
    "    def n_throw_sum(self, n_throw):\n",
    "        output_surfaces = [self.throw() for i in range(n_throw)]\n",
    "        return sum(output_surfaces)"
   ]
  },
  {
   "cell_type": "code",
   "execution_count": 23,
   "metadata": {
    "collapsed": false
   },
   "outputs": [
    {
     "name": "stdout",
     "output_type": "stream",
     "text": [
      "6面ダイスを用意したよ！\n"
     ]
    }
   ],
   "source": [
    "dice_note = Dice_Note(6)"
   ]
  },
  {
   "cell_type": "code",
   "execution_count": 24,
   "metadata": {
    "collapsed": false
   },
   "outputs": [
    {
     "data": {
      "text/plain": [
       "353"
      ]
     },
     "execution_count": 24,
     "metadata": {},
     "output_type": "execute_result"
    }
   ],
   "source": [
    "dice_note.n_throw_sum(100)"
   ]
  },
  {
   "cell_type": "markdown",
   "metadata": {},
   "source": [
    "無事動きました。  \n",
    "これだけでは、クラスの構成を組み替えただけなので、Dice_Noteにメソッドを増やしましょう。  \n",
    "\n",
    "サイコロの出目の和の分布を調べる機能を追加してみます。"
   ]
  },
  {
   "cell_type": "code",
   "execution_count": 25,
   "metadata": {
    "collapsed": true
   },
   "outputs": [],
   "source": [
    "import numpy as np\n",
    "\n",
    "class Dice_Note(Dice):\n",
    "    def __init__(self, n):\n",
    "        super().__init__(n)\n",
    "        self.property = '{}面ダイスのノートだよ！'.format(n)\n",
    "        \n",
    "    def n_throw_sum(self, n_throw):\n",
    "        output_surfaces = [self.throw() for i in range(n_throw)]\n",
    "        return sum(output_surfaces)\n",
    "    \n",
    "    def n_throw_sum_dist(self, n_samples, n_throw):\n",
    "        samples = [self.n_throw_sum(n_throw) for i in range(n_samples)]\n",
    "        print('mean: {}'.format(np.mean(samples)))\n",
    "        print('var : {}'.format(np.var(samples)))\n",
    "        return samples"
   ]
  },
  {
   "cell_type": "markdown",
   "metadata": {},
   "source": [
    "n_throw回ダイスを投げる指向をn_samples回行って、合計値の平均と分散を算出しつつ、値のリストを返す`n_throw_sum_dist`メソッドを追加しました。"
   ]
  },
  {
   "cell_type": "code",
   "execution_count": 26,
   "metadata": {
    "collapsed": false
   },
   "outputs": [
    {
     "name": "stdout",
     "output_type": "stream",
     "text": [
      "6面ダイスを用意したよ！\n"
     ]
    }
   ],
   "source": [
    "dice_note = Dice_Note(6)"
   ]
  },
  {
   "cell_type": "code",
   "execution_count": 27,
   "metadata": {
    "collapsed": false
   },
   "outputs": [
    {
     "name": "stdout",
     "output_type": "stream",
     "text": [
      "mean: 354.3\n",
      "var : 294.36999999999995\n"
     ]
    }
   ],
   "source": [
    "samples = dice_note.n_throw_sum_dist(n_samples=50, n_throw=100)"
   ]
  },
  {
   "cell_type": "code",
   "execution_count": 28,
   "metadata": {
    "collapsed": false
   },
   "outputs": [
    {
     "name": "stdout",
     "output_type": "stream",
     "text": [
      "[374, 343, 342, 351, 334, 349, 348, 354, 352, 355, 351, 351, 346, 340, 351, 390, 365, 321, 377, 347, 329, 334, 363, 356, 390, 359, 339, 320, 377, 336, 349, 365, 347, 396, 360, 351, 357, 337, 370, 367, 373, 348, 338, 366, 336, 356, 391, 363, 340, 361]\n"
     ]
    }
   ],
   "source": [
    "print(samples)"
   ]
  },
  {
   "cell_type": "markdown",
   "metadata": {},
   "source": [
    "うまく機能しているようです。"
   ]
  },
  {
   "cell_type": "markdown",
   "metadata": {},
   "source": [
    "では、samplesの中身を可視化してみましょう。  \n",
    "ヒストグラムを描いてみます。"
   ]
  },
  {
   "cell_type": "code",
   "execution_count": 29,
   "metadata": {
    "collapsed": true
   },
   "outputs": [],
   "source": [
    "import matplotlib.pyplot as plt\n",
    "import seaborn as sns\n",
    "%matplotlib inline"
   ]
  },
  {
   "cell_type": "code",
   "execution_count": 30,
   "metadata": {
    "collapsed": false
   },
   "outputs": [
    {
     "data": {
      "image/png": "[encoded data removed]",
      "text/plain": [
       "<matplotlib.figure.Figure at 0x104a88908>"
      ]
     },
     "metadata": {},
     "output_type": "display_data"
    }
   ],
   "source": [
    "plt.hist(samples, bins=20)\n",
    "plt.show()"
   ]
  },
  {
   "cell_type": "markdown",
   "metadata": {},
   "source": [
    "ヒストグラムが表示されました。\n",
    "さらにサンプル数を増やしてみましょう。"
   ]
  },
  {
   "cell_type": "code",
   "execution_count": 31,
   "metadata": {
    "collapsed": false
   },
   "outputs": [
    {
     "name": "stdout",
     "output_type": "stream",
     "text": [
      "mean: 349.872\n",
      "var : 314.67961599999995\n"
     ]
    }
   ],
   "source": [
    "samples = dice_note.n_throw_sum_dist(n_samples=500, n_throw=100)"
   ]
  },
  {
   "cell_type": "code",
   "execution_count": 32,
   "metadata": {
    "collapsed": false
   },
   "outputs": [
    {
     "data": {
      "image/png": "[encoded data removed]",
      "text/plain": [
       "<matplotlib.figure.Figure at 0x10da04e48>"
      ]
     },
     "metadata": {},
     "output_type": "display_data"
    }
   ],
   "source": [
    "plt.hist(samples, bins=20)\n",
    "plt.show()"
   ]
  },
  {
   "cell_type": "code",
   "execution_count": 33,
   "metadata": {
    "collapsed": false,
    "scrolled": true
   },
   "outputs": [
    {
     "name": "stdout",
     "output_type": "stream",
     "text": [
      "mean: 349.878\n",
      "var : 298.853916\n"
     ]
    }
   ],
   "source": [
    "samples = dice_note.n_throw_sum_dist(n_samples=5000, n_throw=100)"
   ]
  },
  {
   "cell_type": "code",
   "execution_count": 34,
   "metadata": {
    "collapsed": false
   },
   "outputs": [
    {
     "data": {
      "image/png": "[encoded data removed]",
      "text/plain": [
       "<matplotlib.figure.Figure at 0x10db3b898>"
      ]
     },
     "metadata": {},
     "output_type": "display_data"
    }
   ],
   "source": [
    "plt.hist(samples, bins=20)\n",
    "plt.show()"
   ]
  },
  {
   "cell_type": "markdown",
   "metadata": {},
   "source": [
    "ヒストグラムが釣り鐘型になっており、ガウス分布に近づいていっているのがわかります。  \n",
    "複数の確率変数の和の分布がガウス分布に近づいていくという中心極限定理が再現できています。"
   ]
  },
  {
   "cell_type": "markdown",
   "metadata": {},
   "source": [
    "---"
   ]
  },
  {
   "cell_type": "markdown",
   "metadata": {},
   "source": [
    "# まとめ"
   ]
  },
  {
   "cell_type": "markdown",
   "metadata": {},
   "source": [
    "お疲れ様でした。  \n",
    "pythonのクラスと継承について解説しました。  \n",
    "これらの知識を踏まえて、次はいよいよ深層学習フレームワークであるChainerに触っていきます。"
   ]
  }
 ],
 "metadata": {
  "kernelspec": {
   "display_name": "Python 3",
   "language": "python",
   "name": "python3"
  },
  "language_info": {
   "codemirror_mode": {
    "name": "ipython",
    "version": 3
   },
   "file_extension": ".py",
   "mimetype": "text/x-python",
   "name": "python",
   "nbconvert_exporter": "python",
   "pygments_lexer": "ipython3",
   "version": "3.6.1"
  }
 },
 "nbformat": 4,
 "nbformat_minor": 2
}
